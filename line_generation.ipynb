{
 "cells": [
  {
   "cell_type": "code",
   "execution_count": 64,
   "metadata": {},
   "outputs": [],
   "source": [
    "import matplotlib.pyplot as plt\n",
    "import cv2\n",
    "import numpy as np\n",
    "from models import *"
   ]
  },
  {
   "cell_type": "code",
   "execution_count": 65,
   "metadata": {},
   "outputs": [],
   "source": [
    "# Create points\n",
    "p1 = Point(100, 100)\n",
    "p2 = Point(300, 300)"
   ]
  },
  {
   "cell_type": "code",
   "execution_count": 66,
   "metadata": {},
   "outputs": [],
   "source": [
    "# Create a line\n",
    "line = Line(p1, p2)"
   ]
  },
  {
   "cell_type": "code",
   "execution_count": 67,
   "metadata": {},
   "outputs": [
    {
     "name": "stdout",
     "output_type": "stream",
     "text": [
      "Point(x=100, y=100)\n",
      "Point(x=300, y=300)\n",
      "Line(start_point=Point(x=100, y=100), end_point=Point(x=300, y=300))\n",
      "Line length: 282.842712474619\n"
     ]
    }
   ],
   "source": [
    "print(p1)\n",
    "print(p2)\n",
    "print(line)\n",
    "print(\"Line length:\", line.length())"
   ]
  },
  {
   "cell_type": "code",
   "execution_count": 68,
   "metadata": {},
   "outputs": [],
   "source": [
    "# Generate a blank image\n",
    "blank_image = np.zeros((400, 400, 3), dtype=np.uint8)"
   ]
  },
  {
   "cell_type": "code",
   "execution_count": 69,
   "metadata": {},
   "outputs": [],
   "source": [
    "# Draw the line on the image\n",
    "line.draw(blank_image, color=(255, 255, 255), thickness=3)"
   ]
  },
  {
   "cell_type": "code",
   "execution_count": 70,
   "metadata": {},
   "outputs": [
    {
     "data": {
      "image/png": "[encoded data removed]",
      "text/plain": [
       "<Figure size 600x600 with 1 Axes>"
      ]
     },
     "metadata": {},
     "output_type": "display_data"
    }
   ],
   "source": [
    "# Display the image using matplotlib\n",
    "plt.figure(figsize=(6, 6))\n",
    "plt.imshow(cv2.cvtColor(blank_image, cv2.COLOR_BGR2RGB))\n",
    "plt.title(\"Line on Image\")\n",
    "plt.axis(\"off\")\n",
    "plt.show()"
   ]
  },
  {
   "cell_type": "code",
   "execution_count": 71,
   "metadata": {},
   "outputs": [],
   "source": [
    "def generate_road_lines(image_width=800, image_height=600, lane_width=100):\n",
    "    \"\"\"\n",
    "    Generate lines representing a bird's-eye view of a road.\n",
    "    \"\"\"\n",
    "    center_x = image_width // 2\n",
    "    top_y = 0\n",
    "    bottom_y = image_height\n",
    "\n",
    "    # Create the lane boundary lines\n",
    "    left_line = Line(Point(center_x - lane_width, top_y), Point(center_x - lane_width, bottom_y))\n",
    "    right_line = Line(Point(center_x + lane_width, top_y), Point(center_x + lane_width, bottom_y))\n",
    "\n",
    "    # Create the dashed center line\n",
    "    dash_length = 40\n",
    "    gap_length = 20\n",
    "    center_line_segments = []\n",
    "    for y in range(0, image_height, dash_length + gap_length):\n",
    "        start = Point(center_x, y)\n",
    "        end = Point(center_x, min(y + dash_length, image_height))\n",
    "        center_line_segments.append(Line(start, end))\n",
    "\n",
    "    return left_line, right_line, center_line_segments"
   ]
  },
  {
   "cell_type": "code",
   "execution_count": 72,
   "metadata": {},
   "outputs": [],
   "source": [
    "def draw_road_from_lines(image_size=(800, 600), lane_width=100):\n",
    "    \"\"\"\n",
    "    Generate and draw the road using lines.\n",
    "    \"\"\"\n",
    "    # Create a blank black image\n",
    "    image = np.zeros((image_size[1], image_size[0], 3), dtype=np.uint8)\n",
    "\n",
    "    # Generate road lines\n",
    "    left_line, right_line, center_line_segments = generate_road_lines(image_size[0], image_size[1], lane_width)\n",
    "\n",
    "    # Draw the lines on the image\n",
    "    left_line.draw(image, color=(255, 255, 255), thickness=5)\n",
    "    right_line.draw(image, color=(255, 255, 255), thickness=5)\n",
    "    for segment in center_line_segments:\n",
    "        segment.draw(image, color=(255, 255, 255), thickness=5)\n",
    "\n",
    "    return image"
   ]
  },
  {
   "cell_type": "code",
   "execution_count": 73,
   "metadata": {},
   "outputs": [],
   "source": [
    "# Example usage in Jupyter\n",
    "road_image = draw_road_from_lines(image_size=(800, 600), lane_width=100)"
   ]
  },
  {
   "cell_type": "code",
   "execution_count": 74,
   "metadata": {},
   "outputs": [
    {
     "data": {
      "image/png": "[encoded data removed]",
      "text/plain": [
       "<Figure size 1000x600 with 1 Axes>"
      ]
     },
     "metadata": {},
     "output_type": "display_data"
    }
   ],
   "source": [
    "# Display the image using matplotlib\n",
    "plt.figure(figsize=(10, 6))\n",
    "plt.imshow(cv2.cvtColor(road_image, cv2.COLOR_BGR2RGB))\n",
    "plt.title(\"Generated Road from Lines\")\n",
    "plt.axis(\"off\")\n",
    "plt.show()"
   ]
  },
  {
   "cell_type": "code",
   "execution_count": 75,
   "metadata": {},
   "outputs": [],
   "source": [
    "def apply_perspective_transform(image, src_points, dst_points, output_size):\n",
    "    \"\"\"\n",
    "    Apply a perspective transformation to the image.\n",
    "\n",
    "    Parameters:\n",
    "        image (numpy.ndarray): Input image to transform.\n",
    "        src_points (list[Point]): Source points as Point objects.\n",
    "        dst_points (list[Point]): Destination points as Point objects.\n",
    "        output_size (tuple): Size of the output image (width, height).\n",
    "\n",
    "    Returns:\n",
    "        numpy.ndarray: Transformed image.\n",
    "    \"\"\"\n",
    "    # Convert Point objects to numpy arrays\n",
    "    src_array = np.float32([p.to_tuple() for p in src_points])\n",
    "    dst_array = np.float32([p.to_tuple() for p in dst_points])\n",
    "    \n",
    "    # Compute the perspective transformation matrix\n",
    "    matrix = cv2.getPerspectiveTransform(src_array, dst_array)\n",
    "    \n",
    "    # Apply the perspective transformation\n",
    "    transformed_image = cv2.warpPerspective(image, matrix, output_size)\n",
    "    return transformed_image\n"
   ]
  },
  {
   "cell_type": "code",
   "execution_count": 76,
   "metadata": {},
   "outputs": [],
   "source": [
    "# Generate the bird's-eye view road image\n",
    "birdseye_image = draw_road_from_lines(image_size=(800, 600), lane_width=100)"
   ]
  },
  {
   "cell_type": "code",
   "execution_count": 77,
   "metadata": {},
   "outputs": [],
   "source": [
    "# These represent the corners of the road as seen from above\n",
    "src_points = [\n",
    "    Point(300, 0),  # Top-left corner (beginning of the road)\n",
    "    Point(500, 0),  # Top-right corner (beginning of the road)\n",
    "    Point(700, 600), # Bottom-right corner (end of the road)\n",
    "    Point(100, 600)  # Bottom-left corner (end of the road)\n",
    "]"
   ]
  },
  {
   "cell_type": "code",
   "execution_count": 78,
   "metadata": {},
   "outputs": [],
   "source": [
    "# Define the destination points (simulating a new perspective as if standing on the road)\n",
    "dst_points = [\n",
    "    Point(350, 0),   # Start of the road (slightly to the right for a more realistic viewpoint)\n",
    "    Point(450, 0),   # Start of the road (slightly to the left)\n",
    "    Point(700, 600), # End of the road (stay the same)\n",
    "    Point(100, 600)  # End of the road (stay the same)\n",
    "]"
   ]
  },
  {
   "cell_type": "code",
   "execution_count": 79,
   "metadata": {},
   "outputs": [],
   "source": [
    "\n",
    "# Apply the perspective transformation\n",
    "output_size = (800, 600)  # Output image size\n",
    "transformed_image = apply_perspective_transform(birdseye_image, src_points, dst_points, output_size)\n"
   ]
  },
  {
   "cell_type": "code",
   "execution_count": 80,
   "metadata": {},
   "outputs": [
    {
     "data": {
      "text/plain": [
       "<Figure size 1200x800 with 0 Axes>"
      ]
     },
     "execution_count": 80,
     "metadata": {},
     "output_type": "execute_result"
    },
    {
     "data": {
      "text/plain": [
       "<Figure size 1200x800 with 0 Axes>"
      ]
     },
     "metadata": {},
     "output_type": "display_data"
    }
   ],
   "source": [
    "# Display the original and transformed images\n",
    "plt.figure(figsize=(12, 8))"
   ]
  },
  {
   "cell_type": "code",
   "execution_count": 81,
   "metadata": {},
   "outputs": [
    {
     "data": {
      "text/plain": [
       "(-0.5, 799.5, 599.5, -0.5)"
      ]
     },
     "execution_count": 81,
     "metadata": {},
     "output_type": "execute_result"
    },
    {
     "data": {
      "image/png": "[encoded data removed]",
      "text/plain": [
       "<Figure size 640x480 with 1 Axes>"
      ]
     },
     "metadata": {},
     "output_type": "display_data"
    }
   ],
   "source": [
    "# Bird's-eye view\n",
    "plt.subplot(1, 2, 1)\n",
    "plt.imshow(cv2.cvtColor(birdseye_image, cv2.COLOR_BGR2RGB))\n",
    "plt.title(\"Bird's Eye View\")\n",
    "plt.axis(\"off\")"
   ]
  },
  {
   "cell_type": "code",
   "execution_count": 82,
   "metadata": {},
   "outputs": [
    {
     "data": {
      "text/plain": [
       "(-0.5, 799.5, 599.5, -0.5)"
      ]
     },
     "execution_count": 82,
     "metadata": {},
     "output_type": "execute_result"
    },
    {
     "data": {
      "image/png": "[encoded data removed]",
      "text/plain": [
       "<Figure size 640x480 with 1 Axes>"
      ]
     },
     "metadata": {},
     "output_type": "display_data"
    }
   ],
   "source": [
    "# Transformed perspective\n",
    "plt.subplot(1, 2, 2)\n",
    "plt.imshow(cv2.cvtColor(transformed_image, cv2.COLOR_BGR2RGB))\n",
    "plt.title(\"Transformed View\")\n",
    "plt.axis(\"off\")"
   ]
  },
  {
   "cell_type": "code",
   "execution_count": 83,
   "metadata": {},
   "outputs": [],
   "source": [
    "plt.show()"
   ]
  },
  {
   "cell_type": "code",
   "execution_count": 84,
   "metadata": {},
   "outputs": [],
   "source": [
    "# Function to simulate the perspective of lane lines converging at the horizon\n",
    "def transform_road_view_with_convergence(source_points, road_image, shift_x=0):\n",
    "    # Adjust the destination points to simulate forward motion and convergence at the horizon\n",
    "    horizon_offset = 600  # Simulate the horizon (far in the distance)\n",
    "    destination_points = np.array([\n",
    "        [source_points[0][0] + shift_x, source_points[0][1]],   # Move left to right\n",
    "        [source_points[1][0] + shift_x, source_points[1][1]],   # Move left to right\n",
    "        [source_points[2][0] + shift_x, source_points[2][1] + horizon_offset],  # Converge at horizon\n",
    "        [source_points[3][0] + shift_x, source_points[3][1] + horizon_offset]   # Converge at horizon\n",
    "    ], dtype='float32')\n",
    "\n",
    "    # Calculate the perspective transformation matrix\n",
    "    matrix = cv2.getPerspectiveTransform(source_points, destination_points)\n",
    "\n",
    "    # Apply the perspective transformation to simulate motion along the road with lane convergence\n",
    "    transformed_image = cv2.warpPerspective(road_image, matrix, (800, 700))\n",
    "    \n",
    "    return transformed_image"
   ]
  },
  {
   "cell_type": "code",
   "execution_count": 85,
   "metadata": {},
   "outputs": [],
   "source": [
    "# Corrected function for generating first-person perspective where lane lines converge at the horizon\n",
    "def simulate_first_person_with_convergence(source_points, road_image, shift_x_start, shift_x_end, num_frames=5):\n",
    "    # Generate images simulating the first-person perspective with lane lines converging to the horizon\n",
    "    images = []\n",
    "    for i in range(num_frames):\n",
    "        shift_x = shift_x_start + (shift_x_end - shift_x_start) * (i / (num_frames - 1))  # Interpolate shift_x\n",
    "        # Apply the perspective transformation for each shift to simulate forward motion on the road\n",
    "        transformed_image = transform_road_view_with_convergence(source_points, road_image, shift_x)\n",
    "        images.append(transformed_image)\n",
    "    \n",
    "    return images"
   ]
  },
  {
   "cell_type": "code",
   "execution_count": 86,
   "metadata": {},
   "outputs": [],
   "source": [
    "# Create the initial road image\n",
    "road_image = draw_road_from_lines(image_size=(800, 600), lane_width=100)"
   ]
  },
  {
   "cell_type": "code",
   "execution_count": 87,
   "metadata": {},
   "outputs": [
    {
     "ename": "TypeError",
     "evalue": "'Point' object is not subscriptable",
     "output_type": "error",
     "traceback": [
      "\u001b[1;31m---------------------------------------------------------------------------\u001b[0m",
      "\u001b[1;31mTypeError\u001b[0m                                 Traceback (most recent call last)",
      "Cell \u001b[1;32mIn[87], line 4\u001b[0m\n\u001b[0;32m      2\u001b[0m shift_x_start \u001b[38;5;241m=\u001b[39m \u001b[38;5;241m0\u001b[39m   \u001b[38;5;66;03m# Start at the leftmost point\u001b[39;00m\n\u001b[0;32m      3\u001b[0m shift_x_end \u001b[38;5;241m=\u001b[39m \u001b[38;5;241m400\u001b[39m   \u001b[38;5;66;03m# End at the rightmost point\u001b[39;00m\n\u001b[1;32m----> 4\u001b[0m transformed_images \u001b[38;5;241m=\u001b[39m \u001b[43msimulate_first_person_with_convergence\u001b[49m\u001b[43m(\u001b[49m\u001b[43msrc_points\u001b[49m\u001b[43m,\u001b[49m\u001b[43m \u001b[49m\u001b[43mroad_image\u001b[49m\u001b[43m,\u001b[49m\u001b[43m \u001b[49m\u001b[43mshift_x_start\u001b[49m\u001b[43m,\u001b[49m\u001b[43m \u001b[49m\u001b[43mshift_x_end\u001b[49m\u001b[43m)\u001b[49m\n",
      "Cell \u001b[1;32mIn[85], line 8\u001b[0m, in \u001b[0;36msimulate_first_person_with_convergence\u001b[1;34m(source_points, road_image, shift_x_start, shift_x_end, num_frames)\u001b[0m\n\u001b[0;32m      6\u001b[0m     shift_x \u001b[38;5;241m=\u001b[39m shift_x_start \u001b[38;5;241m+\u001b[39m (shift_x_end \u001b[38;5;241m-\u001b[39m shift_x_start) \u001b[38;5;241m*\u001b[39m (i \u001b[38;5;241m/\u001b[39m (num_frames \u001b[38;5;241m-\u001b[39m \u001b[38;5;241m1\u001b[39m))  \u001b[38;5;66;03m# Interpolate shift_x\u001b[39;00m\n\u001b[0;32m      7\u001b[0m     \u001b[38;5;66;03m# Apply the perspective transformation for each shift to simulate forward motion on the road\u001b[39;00m\n\u001b[1;32m----> 8\u001b[0m     transformed_image \u001b[38;5;241m=\u001b[39m \u001b[43mtransform_road_view_with_convergence\u001b[49m\u001b[43m(\u001b[49m\u001b[43msource_points\u001b[49m\u001b[43m,\u001b[49m\u001b[43m \u001b[49m\u001b[43mroad_image\u001b[49m\u001b[43m,\u001b[49m\u001b[43m \u001b[49m\u001b[43mshift_x\u001b[49m\u001b[43m)\u001b[49m\n\u001b[0;32m      9\u001b[0m     images\u001b[38;5;241m.\u001b[39mappend(transformed_image)\n\u001b[0;32m     11\u001b[0m \u001b[38;5;28;01mreturn\u001b[39;00m images\n",
      "Cell \u001b[1;32mIn[84], line 6\u001b[0m, in \u001b[0;36mtransform_road_view_with_convergence\u001b[1;34m(source_points, road_image, shift_x)\u001b[0m\n\u001b[0;32m      2\u001b[0m \u001b[38;5;28;01mdef\u001b[39;00m \u001b[38;5;21mtransform_road_view_with_convergence\u001b[39m(source_points, road_image, shift_x\u001b[38;5;241m=\u001b[39m\u001b[38;5;241m0\u001b[39m):\n\u001b[0;32m      3\u001b[0m     \u001b[38;5;66;03m# Adjust the destination points to simulate forward motion and convergence at the horizon\u001b[39;00m\n\u001b[0;32m      4\u001b[0m     horizon_offset \u001b[38;5;241m=\u001b[39m \u001b[38;5;241m600\u001b[39m  \u001b[38;5;66;03m# Simulate the horizon (far in the distance)\u001b[39;00m\n\u001b[0;32m      5\u001b[0m     destination_points \u001b[38;5;241m=\u001b[39m np\u001b[38;5;241m.\u001b[39marray([\n\u001b[1;32m----> 6\u001b[0m         [\u001b[43msource_points\u001b[49m\u001b[43m[\u001b[49m\u001b[38;5;241;43m0\u001b[39;49m\u001b[43m]\u001b[49m\u001b[43m[\u001b[49m\u001b[38;5;241;43m0\u001b[39;49m\u001b[43m]\u001b[49m \u001b[38;5;241m+\u001b[39m shift_x, source_points[\u001b[38;5;241m0\u001b[39m][\u001b[38;5;241m1\u001b[39m]],   \u001b[38;5;66;03m# Move left to right\u001b[39;00m\n\u001b[0;32m      7\u001b[0m         [source_points[\u001b[38;5;241m1\u001b[39m][\u001b[38;5;241m0\u001b[39m] \u001b[38;5;241m+\u001b[39m shift_x, source_points[\u001b[38;5;241m1\u001b[39m][\u001b[38;5;241m1\u001b[39m]],   \u001b[38;5;66;03m# Move left to right\u001b[39;00m\n\u001b[0;32m      8\u001b[0m         [source_points[\u001b[38;5;241m2\u001b[39m][\u001b[38;5;241m0\u001b[39m] \u001b[38;5;241m+\u001b[39m shift_x, source_points[\u001b[38;5;241m2\u001b[39m][\u001b[38;5;241m1\u001b[39m] \u001b[38;5;241m+\u001b[39m horizon_offset],  \u001b[38;5;66;03m# Converge at horizon\u001b[39;00m\n\u001b[0;32m      9\u001b[0m         [source_points[\u001b[38;5;241m3\u001b[39m][\u001b[38;5;241m0\u001b[39m] \u001b[38;5;241m+\u001b[39m shift_x, source_points[\u001b[38;5;241m3\u001b[39m][\u001b[38;5;241m1\u001b[39m] \u001b[38;5;241m+\u001b[39m horizon_offset]   \u001b[38;5;66;03m# Converge at horizon\u001b[39;00m\n\u001b[0;32m     10\u001b[0m     ], dtype\u001b[38;5;241m=\u001b[39m\u001b[38;5;124m'\u001b[39m\u001b[38;5;124mfloat32\u001b[39m\u001b[38;5;124m'\u001b[39m)\n\u001b[0;32m     12\u001b[0m     \u001b[38;5;66;03m# Calculate the perspective transformation matrix\u001b[39;00m\n\u001b[0;32m     13\u001b[0m     matrix \u001b[38;5;241m=\u001b[39m cv2\u001b[38;5;241m.\u001b[39mgetPerspectiveTransform(source_points, destination_points)\n",
      "\u001b[1;31mTypeError\u001b[0m: 'Point' object is not subscriptable"
     ]
    }
   ],
   "source": [
    "# Simulate the first-person view from left to right, with lane lines converging at the horizon\n",
    "shift_x_start = 0   # Start at the leftmost point\n",
    "shift_x_end = 400   # End at the rightmost point\n",
    "transformed_images = simulate_first_person_with_convergence(src_points, road_image, shift_x_start, shift_x_end)"
   ]
  },
  {
   "cell_type": "code",
   "execution_count": null,
   "metadata": {},
   "outputs": [],
   "source": [
    "# Plot the images\n",
    "fig, axes = plt.subplots(1, len(transformed_images), figsize=(15, 5))\n",
    "for i, ax in enumerate(axes):\n",
    "    ax.imshow(transformed_images[i])\n",
    "    ax.axis('off')\n",
    "    ax.set_title(f\"Frame {i+1}\")\n",
    "plt.tight_layout()\n",
    "plt.show()"
   ]
  }
 ],
 "metadata": {
  "kernelspec": {
   "display_name": "Python 3",
   "language": "python",
   "name": "python3"
  },
  "language_info": {
   "codemirror_mode": {
    "name": "ipython",
    "version": 3
   },
   "file_extension": ".py",
   "mimetype": "text/x-python",
   "name": "python",
   "nbconvert_exporter": "python",
   "pygments_lexer": "ipython3",
   "version": "3.11.1"
  }
 },
 "nbformat": 4,
 "nbformat_minor": 2
}
