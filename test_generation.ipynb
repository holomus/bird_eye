{
 "cells": [
  {
   "cell_type": "code",
   "execution_count": 22,
   "metadata": {},
   "outputs": [],
   "source": [
    "from matplotlib import pyplot as plt\n",
    "import cv2"
   ]
  },
  {
   "cell_type": "code",
   "execution_count": 23,
   "metadata": {},
   "outputs": [],
   "source": [
    "from classes import *"
   ]
  },
  {
   "cell_type": "code",
   "execution_count": 24,
   "metadata": {},
   "outputs": [],
   "source": [
    "# Define projection matrix\n",
    "fx, fy = 100, 100\n",
    "cx, cy = 500, 500\n",
    "intrinsic_matrix = np.array([\n",
    "  [fx, 0, cx],\n",
    "  [0, fy, cy],\n",
    "  [0, 0, 1]\n",
    "])\n",
    "R = np.eye(3)\n",
    "t = np.array([[500], [500], [500]])\n",
    "extrinsic_matrix = np.hstack((R, t))\n",
    "projection_matrix = intrinsic_matrix @ extrinsic_matrix"
   ]
  },
  {
   "cell_type": "code",
   "execution_count": 25,
   "metadata": {},
   "outputs": [],
   "source": [
    "road = RoadSegmentGenerator.generate()"
   ]
  },
  {
   "cell_type": "code",
   "execution_count": 26,
   "metadata": {},
   "outputs": [],
   "source": [
    "projection = road.project(projection_matrix)"
   ]
  },
  {
   "cell_type": "code",
   "execution_count": 27,
   "metadata": {},
   "outputs": [
    {
     "data": {
      "text/plain": [
       "'lines=[DoubleLine(start=Point(x=500.0, y=100.0, z=0.0), end=Point(x=500.0, y=900.0, z=0.0)), DashedLine(start=Point(x=510.0, y=100.0, z=0.0), end=Point(x=510.0, y=900.0, z=0.0)), DashedLine(start=Point(x=520.0, y=100.0, z=0.0), end=Point(x=520.0, y=900.0, z=0.0)), YellowDashedLine(start=Point(x=530.0, y=100.0, z=0.0), end=Point(x=530.0, y=900.0, z=0.0)), DashedLine(start=Point(x=540.0, y=100.0, z=0.0), end=Point(x=540.0, y=900.0, z=0.0)), DashedLine(start=Point(x=470.0, y=100.0, z=0.0), end=Point(x=470.0, y=900.0, z=0.0)), DashedLine(start=Point(x=480.0, y=100.0, z=0.0), end=Point(x=480.0, y=900.0, z=0.0)), Line(start=Point(x=490.0, y=100.0, z=0.0), end=Point(x=490.0, y=900.0, z=0.0))]'"
      ]
     },
     "execution_count": 27,
     "metadata": {},
     "output_type": "execute_result"
    }
   ],
   "source": [
    "str(road)"
   ]
  },
  {
   "cell_type": "code",
   "execution_count": 28,
   "metadata": {},
   "outputs": [
    {
     "data": {
      "text/plain": [
       "'lines=[Line(start=Point(x=700.0, y=620.0, z=None), end=Point(x=700.0, y=780.0, z=None)), Line(start=Point(x=702.0, y=620.0, z=None), end=Point(x=702.0, y=780.0, z=None)), Line(start=Point(x=704.0, y=620.0, z=None), end=Point(x=704.0, y=780.0, z=None)), Line(start=Point(x=706.0, y=620.0, z=None), end=Point(x=706.0, y=780.0, z=None)), Line(start=Point(x=708.0, y=620.0, z=None), end=Point(x=708.0, y=780.0, z=None)), Line(start=Point(x=694.0, y=620.0, z=None), end=Point(x=694.0, y=780.0, z=None)), Line(start=Point(x=696.0, y=620.0, z=None), end=Point(x=696.0, y=780.0, z=None)), Line(start=Point(x=698.0, y=620.0, z=None), end=Point(x=698.0, y=780.0, z=None))]'"
      ]
     },
     "execution_count": 28,
     "metadata": {},
     "output_type": "execute_result"
    }
   ],
   "source": [
    "str(projection)"
   ]
  },
  {
   "cell_type": "code",
   "execution_count": null,
   "metadata": {},
   "outputs": [],
   "source": [
    "# Create a blank image\n",
    "image = np.zeros((1000, 1000, 3), dtype=np.uint8)"
   ]
  },
  {
   "cell_type": "code",
   "execution_count": 30,
   "metadata": {},
   "outputs": [],
   "source": [
    "# Draw the projected road segment directly using its draw method\n",
    "projection.draw(image)"
   ]
  },
  {
   "cell_type": "code",
   "execution_count": 31,
   "metadata": {},
   "outputs": [
    {
     "data": {
      "image/png": "[encoded data removed]",
      "text/plain": [
       "<Figure size 1000x600 with 1 Axes>"
      ]
     },
     "metadata": {},
     "output_type": "display_data"
    }
   ],
   "source": [
    "# Display the image in Jupyter Notebook\n",
    "plt.figure(figsize=(10, 6))\n",
    "plt.imshow(cv2.cvtColor(image, cv2.COLOR_BGR2RGB))\n",
    "plt.title(\"Projected Road\")\n",
    "plt.axis(\"off\")\n",
    "plt.show()"
   ]
  }
 ],
 "metadata": {
  "kernelspec": {
   "display_name": "venv",
   "language": "python",
   "name": "python3"
  },
  "language_info": {
   "codemirror_mode": {
    "name": "ipython",
    "version": 3
   },
   "file_extension": ".py",
   "mimetype": "text/x-python",
   "name": "python",
   "nbconvert_exporter": "python",
   "pygments_lexer": "ipython3",
   "version": "3.13.1"
  }
 },
 "nbformat": 4,
 "nbformat_minor": 2
}
