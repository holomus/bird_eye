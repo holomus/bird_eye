{
 "cells": [
  {
   "cell_type": "code",
   "execution_count": 799,
   "metadata": {},
   "outputs": [],
   "source": [
    "from matplotlib import pyplot as plt\n",
    "import cv2\n",
    "from ipywidgets import interact, FloatSlider"
   ]
  },
  {
   "cell_type": "code",
   "execution_count": 800,
   "metadata": {},
   "outputs": [],
   "source": [
    "from classes import *"
   ]
  },
  {
   "cell_type": "code",
   "execution_count": 801,
   "metadata": {},
   "outputs": [],
   "source": [
    "road = RoadSegmentGenerator.generate(lane_width=100, road_center=Point(x=100,y=0,z=0), lane_length=1000)"
   ]
  },
  {
   "cell_type": "code",
   "execution_count": 802,
   "metadata": {},
   "outputs": [],
   "source": [
    "camera_position = road.random_adjacent_middle_point()\n",
    "camera_position.x = -camera_position.x\n",
    "camera_position.y = 0\n",
    "camera_position.z = 100"
   ]
  },
  {
   "cell_type": "code",
   "execution_count": 803,
   "metadata": {},
   "outputs": [],
   "source": [
    "def get_extrinsic_matrix(rx, ry, rz, tx, ty, tz):\n",
    "  \"\"\"\n",
    "  Create an extrinsic matrix with given rotation and translation.\n",
    "  \n",
    "  Parameters:\n",
    "    rx, ry, rz: Rotation angles (in degrees) around X, Y, and Z axes.\n",
    "    tx, ty, tz: Translation along X, Y, and Z axes.\n",
    "    \n",
    "  Returns:\n",
    "    extrinsic_matrix: 3x4 combined rotation and translation matrix.\n",
    "  \"\"\"\n",
    "  rx, ry, rz = np.radians([rx, ry, rz])\n",
    "  \n",
    "  # Rotation matrices\n",
    "  R_x = np.array([\n",
    "    [1, 0, 0],\n",
    "    [0, np.cos(rx), -np.sin(rx)],\n",
    "    [0, np.sin(rx), np.cos(rx)]\n",
    "  ])\n",
    "  R_y = np.array([\n",
    "    [np.cos(ry), 0, np.sin(ry)],\n",
    "    [0, 1, 0],\n",
    "    [-np.sin(ry), 0, np.cos(ry)]\n",
    "  ])\n",
    "  R_z = np.array([\n",
    "    [np.cos(rz), -np.sin(rz), 0],\n",
    "    [np.sin(rz), np.cos(rz), 0],\n",
    "    [0, 0, 1]\n",
    "  ])\n",
    "  \n",
    "  # Combined rotation\n",
    "  R = R_x @ R_y @ R_z\n",
    "  \n",
    "  # Translation vector\n",
    "  t = np.array([[tx], [ty], [tz]])\n",
    "  \n",
    "  # Extrinsic matrix\n",
    "  return np.hstack((R, t))"
   ]
  },
  {
   "cell_type": "code",
   "execution_count": 804,
   "metadata": {},
   "outputs": [],
   "source": [
    "def update_projection(road: RoadSegment, intrinsic_matrix, rx=0, ry=0, rz=0, tx=0, ty=0, tz=500):\n",
    "  \"\"\"\n",
    "  Update the road projection with new camera parameters.\n",
    "  \n",
    "  Parameters:\n",
    "    rx, ry, rz: Rotation angles around X, Y, Z axes.\n",
    "    tx, ty, tz: Translation along X, Y, Z axes.\n",
    "  \"\"\"\n",
    "  # Get extrinsic matrix\n",
    "  extrinsic_matrix = get_extrinsic_matrix(rx, ry, rz, tx, ty, tz)\n",
    "  \n",
    "  # Compute projection matrix\n",
    "  projection_matrix = intrinsic_matrix @ extrinsic_matrix\n",
    "  \n",
    "  # Project the road\n",
    "  projected_road = road.project(projection_matrix)\n",
    "  \n",
    "  # Create a blank image\n",
    "  image = np.zeros((1000, 1500, 3), dtype=np.uint8) + 100\n",
    "  \n",
    "  # Draw the projected road\n",
    "  projected_road.draw(image)\n",
    "  \n",
    "  # Display the image\n",
    "  plt.figure(figsize=(10, 10))\n",
    "  plt.imshow(cv2.cvtColor(image, cv2.COLOR_BGR2RGB))\n",
    "  plt.title(f\"Projection (rx={rx}, ry={ry}, rz={rz}, tx={tx}, ty={ty}, tz={tz})\")\n",
    "  plt.show()"
   ]
  },
  {
   "cell_type": "code",
   "execution_count": 805,
   "metadata": {},
   "outputs": [],
   "source": [
    "\n",
    "# Define intrinsic parameters\n",
    "fx, fy = 100, 100\n",
    "cx, cy = -camera_position.x, 0\n",
    "intrinsic_matrix = np.array([\n",
    "  [fx, 0, cx],\n",
    "  [0, fy, cy],\n",
    "  [0, 0, 1]\n",
    "])\n",
    "\n",
    "# Define extrinsic parameters\n",
    "angles_deg_new = np.array([-60, 0, 0])\n",
    "\n",
    "rx, ry, rz = np.radians(angles_deg_new)\n",
    "  \n",
    "  # Rotation matrices\n",
    "R_x = np.array([\n",
    "  [1, 0, 0],\n",
    "  [0, np.cos(rx), -np.sin(rx)],\n",
    "  [0, np.sin(rx), np.cos(rx)]\n",
    "])\n",
    "R_y = np.array([\n",
    "  [np.cos(ry), 0, np.sin(ry)],\n",
    "  [0, 1, 0],\n",
    "  [-np.sin(ry), 0, np.cos(ry)]\n",
    "])\n",
    "R_z = np.array([\n",
    "  [np.cos(rz), -np.sin(rz), 0],\n",
    "  [np.sin(rz), np.cos(rz), 0],\n",
    "  [0, 0, 1]\n",
    "])\n",
    "  \n",
    "# Combined rotation\n",
    "R = R_x @ R_y @ R_z\n",
    "\n",
    "# Combine rotation with translation\n",
    "t = np.array([[camera_position.x], [camera_position.y], [camera_position.z]])  # Camera is above and behind the road\n",
    "extrinsic_matrix = np.hstack((R, t))\n",
    "\n",
    "# Compute the projection matrix\n",
    "projection_matrix = intrinsic_matrix @ extrinsic_matrix"
   ]
  },
  {
   "cell_type": "code",
   "execution_count": 806,
   "metadata": {},
   "outputs": [],
   "source": [
    "projection = road.project(projection_matrix)"
   ]
  },
  {
   "cell_type": "code",
   "execution_count": 807,
   "metadata": {},
   "outputs": [],
   "source": [
    "projection_angled = road.project(projection_matrix)"
   ]
  },
  {
   "cell_type": "code",
   "execution_count": 808,
   "metadata": {},
   "outputs": [
    {
     "data": {
      "text/plain": [
       "RoadSegment(lines=[YellowDashedLine(start=Point(x=100.0, y=0.0, z=0.0), end=Point(x=100.0, y=1000.0, z=0.0)), MixedDoubleLine(start=Point(x=200.0, y=0.0, z=0.0), end=Point(x=200.0, y=1000.0, z=0.0)), DashedLine(start=Point(x=300.0, y=0.0, z=0.0), end=Point(x=300.0, y=1000.0, z=0.0)), YellowDashedLine(start=Point(x=400.0, y=0.0, z=0.0), end=Point(x=400.0, y=1000.0, z=0.0))])"
      ]
     },
     "execution_count": 808,
     "metadata": {},
     "output_type": "execute_result"
    }
   ],
   "source": [
    "road"
   ]
  },
  {
   "cell_type": "code",
   "execution_count": 809,
   "metadata": {},
   "outputs": [
    {
     "data": {
      "text/plain": [
       "RoadSegment(lines=[YellowDashedLine(start=Point(x=100.0, y=0.0, z=None), end=Point(x=269.0, y=-65.0, z=None)), MixedDoubleLine(start=Point(x=200.0, y=0.0, z=None), end=Point(x=256.0, y=-65.0, z=None)), DashedLine(start=Point(x=300.0, y=0.0, z=None), end=Point(x=243.0, y=-65.0, z=None)), YellowDashedLine(start=Point(x=400.0, y=0.0, z=None), end=Point(x=230.0, y=-65.0, z=None))])"
      ]
     },
     "execution_count": 809,
     "metadata": {},
     "output_type": "execute_result"
    }
   ],
   "source": [
    "projection"
   ]
  },
  {
   "cell_type": "code",
   "execution_count": 810,
   "metadata": {},
   "outputs": [
    {
     "data": {
      "text/plain": [
       "RoadSegment(lines=[YellowDashedLine(start=Point(x=100.0, y=0.0, z=None), end=Point(x=269.0, y=-65.0, z=None)), MixedDoubleLine(start=Point(x=200.0, y=0.0, z=None), end=Point(x=256.0, y=-65.0, z=None)), DashedLine(start=Point(x=300.0, y=0.0, z=None), end=Point(x=243.0, y=-65.0, z=None)), YellowDashedLine(start=Point(x=400.0, y=0.0, z=None), end=Point(x=230.0, y=-65.0, z=None))])"
      ]
     },
     "execution_count": 810,
     "metadata": {},
     "output_type": "execute_result"
    }
   ],
   "source": [
    "projection_angled"
   ]
  },
  {
   "cell_type": "code",
   "execution_count": 811,
   "metadata": {},
   "outputs": [],
   "source": [
    "# Create a blank image\n",
    "# image = np.zeros((1000, 1500, 3), dtype=np.uint8) + 100"
   ]
  },
  {
   "cell_type": "code",
   "execution_count": 812,
   "metadata": {},
   "outputs": [],
   "source": [
    "# Draw the projected road segment directly using its draw method\n",
    "# projection.draw(image)"
   ]
  },
  {
   "cell_type": "code",
   "execution_count": 813,
   "metadata": {},
   "outputs": [],
   "source": [
    "# # Display the image in Jupyter Notebook\n",
    "# plt.figure(figsize=(10, 10))\n",
    "# plt.imshow(cv2.cvtColor(image, cv2.COLOR_BGR2RGB))\n",
    "# plt.title(\"Projected Road\")\n",
    "# plt.show()"
   ]
  },
  {
   "cell_type": "code",
   "execution_count": 814,
   "metadata": {},
   "outputs": [],
   "source": [
    "image_angled = np.zeros((1000, 1500, 3), dtype=np.uint8) + 100"
   ]
  },
  {
   "cell_type": "code",
   "execution_count": 815,
   "metadata": {},
   "outputs": [],
   "source": [
    "projection_angled.draw(image_angled)"
   ]
  },
  {
   "cell_type": "code",
   "execution_count": 816,
   "metadata": {},
   "outputs": [],
   "source": [
    "# Create a blank image\n",
    "image_original = np.zeros((1000, 1000, 3), dtype=np.uint8) + 100"
   ]
  },
  {
   "cell_type": "code",
   "execution_count": 817,
   "metadata": {},
   "outputs": [],
   "source": [
    "road.draw(image_original)"
   ]
  },
  {
   "cell_type": "code",
   "execution_count": 818,
   "metadata": {},
   "outputs": [
    {
     "data": {
      "image/png": "[encoded data removed]",
      "text/plain": [
       "<Figure size 1000x1000 with 1 Axes>"
      ]
     },
     "metadata": {},
     "output_type": "display_data"
    }
   ],
   "source": [
    "# Display the image in Jupyter Notebook\n",
    "plt.figure(figsize=(10, 10))\n",
    "plt.imshow(cv2.cvtColor(image_original, cv2.COLOR_BGR2RGB))\n",
    "plt.title(\"Original Road\")\n",
    "plt.show()"
   ]
  },
  {
   "cell_type": "code",
   "execution_count": 819,
   "metadata": {},
   "outputs": [
    {
     "data": {
      "image/png": "[encoded data removed]",
      "text/plain": [
       "<Figure size 1000x1000 with 1 Axes>"
      ]
     },
     "metadata": {},
     "output_type": "display_data"
    }
   ],
   "source": [
    "# Display the image in Jupyter Notebook\n",
    "plt.figure(figsize=(10, 10))\n",
    "plt.imshow(cv2.cvtColor(image_angled, cv2.COLOR_BGR2RGB))\n",
    "plt.title(\"Projected Road\")\n",
    "plt.show()"
   ]
  },
  {
   "cell_type": "code",
   "execution_count": 820,
   "metadata": {},
   "outputs": [],
   "source": [
    "update_projection_prepared = lambda rx=0, ry=0, rz=0, tx=0, ty=0, tz=500: update_projection(\n",
    "  road, intrinsic_matrix, rx=rx, ry=ry, rz=rz, tx=tx, ty=ty, tz=tz\n",
    ")"
   ]
  },
  {
   "cell_type": "code",
   "execution_count": 821,
   "metadata": {},
   "outputs": [
    {
     "data": {
      "application/vnd.jupyter.widget-view+json": {
       "model_id": "9e3f23509f454dd29bd86e7a5a5a58e5",
       "version_major": 2,
       "version_minor": 0
      },
      "text/plain": [
       "interactive(children=(FloatSlider(value=-60.0, description='Rotate X', max=180.0, min=-180.0, step=1.0), Float…"
      ]
     },
     "metadata": {},
     "output_type": "display_data"
    },
    {
     "data": {
      "text/plain": [
       "<function __main__.<lambda>(rx=0, ry=0, rz=0, tx=0, ty=0, tz=500)>"
      ]
     },
     "execution_count": 821,
     "metadata": {},
     "output_type": "execute_result"
    }
   ],
   "source": [
    "interact(\n",
    "  update_projection_prepared,\n",
    "  rx=FloatSlider(min=-180, max=180, step=1, value=-60, description=\"Rotate X\"),\n",
    "  ry=FloatSlider(min=-180, max=180, step=1, value=0, description=\"Rotate Y\"),\n",
    "  rz=FloatSlider(min=-180, max=180, step=1, value=0, description=\"Rotate Z\"),\n",
    "  tx=FloatSlider(min=-1000, max=1000, step=10, value=camera_position.x, description=\"Translate X\"),\n",
    "  ty=FloatSlider(min=-1000, max=1000, step=10, value=camera_position.y, description=\"Translate Y\"),\n",
    "  tz=FloatSlider(min=-1000, max=1000, step=10, value=camera_position.z, description=\"Translate Z\")\n",
    ")"
   ]
  }
 ],
 "metadata": {
  "kernelspec": {
   "display_name": "venv",
   "language": "python",
   "name": "python3"
  },
  "language_info": {
   "codemirror_mode": {
    "name": "ipython",
    "version": 3
   },
   "file_extension": ".py",
   "mimetype": "text/x-python",
   "name": "python",
   "nbconvert_exporter": "python",
   "pygments_lexer": "ipython3",
   "version": "3.13.1"
  }
 },
 "nbformat": 4,
 "nbformat_minor": 2
}
